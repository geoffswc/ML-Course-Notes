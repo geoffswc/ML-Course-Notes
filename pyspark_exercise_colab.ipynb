{
  "nbformat": 4,
  "nbformat_minor": 0,
  "metadata": {
    "colab": {
      "name": "pyspark_exercise",
      "provenance": [],
      "collapsed_sections": [],
      "include_colab_link": true
    },
    "kernelspec": {
      "name": "python3",
      "display_name": "Python 3"
    }
  },
  "cells": [
    {
      "cell_type": "markdown",
      "metadata": {
        "id": "view-in-github",
        "colab_type": "text"
      },
      "source": [
        "<a href=\"https://colab.research.google.com/github/geoffswc/ML-Course-Notes/blob/master/pyspark_exercise_colab.ipynb\" target=\"_parent\"><img src=\"https://colab.research.google.com/assets/colab-badge.svg\" alt=\"Open In Colab\"/></a>"
      ]
    },
    {
      "cell_type": "code",
      "metadata": {
        "id": "rvaJxzw6R-2W",
        "colab_type": "code",
        "outputId": "a8c82c28-ed08-4ed1-e839-334c2a74ba40",
        "colab": {
          "base_uri": "https://localhost:8080/",
          "height": 69
        }
      },
      "source": [
        "!apt-get install openjdk-8-jdk-headless -qq > /dev/null\n",
        "import os\n",
        "os.environ[\"JAVA_HOME\"] = \"/usr/lib/jvm/java-8-openjdk-amd64\"\n",
        "!update-alternatives --set java /usr/lib/jvm/java-8-openjdk-amd64/jre/bin/java\n",
        "!java -version"
      ],
      "execution_count": 0,
      "outputs": [
        {
          "output_type": "stream",
          "text": [
            "openjdk version \"1.8.0_222\"\n",
            "OpenJDK Runtime Environment (build 1.8.0_222-8u222-b10-1ubuntu1~18.04.1-b10)\n",
            "OpenJDK 64-Bit Server VM (build 25.222-b10, mixed mode)\n"
          ],
          "name": "stdout"
        }
      ]
    },
    {
      "cell_type": "code",
      "metadata": {
        "id": "hqEMaWNwReDZ",
        "colab_type": "code",
        "outputId": "aaec27f7-2c35-4e83-fe7c-7bdc4a3d7f6d",
        "colab": {
          "base_uri": "https://localhost:8080/",
          "height": 52
        }
      },
      "source": [
        "!pip install pyspark"
      ],
      "execution_count": 0,
      "outputs": [
        {
          "output_type": "stream",
          "text": [
            "Requirement already satisfied: pyspark in /usr/local/lib/python3.6/dist-packages (2.4.4)\n",
            "Requirement already satisfied: py4j==0.10.7 in /usr/local/lib/python3.6/dist-packages (from pyspark) (0.10.7)\n"
          ],
          "name": "stdout"
        }
      ]
    },
    {
      "cell_type": "code",
      "metadata": {
        "id": "DhorXw5BRxtA",
        "colab_type": "code",
        "colab": {}
      },
      "source": [
        "from pyspark.sql import SQLContext\n",
        "\n",
        "from pyspark.ml.regression import LinearRegression\n",
        "from pyspark.ml.regression import RandomForestRegressor\n",
        "from pyspark.ml.feature import VectorAssembler\n",
        "from pyspark.ml.regression import DecisionTreeRegressor\n",
        "from pyspark.sql.session import SparkSession"
      ],
      "execution_count": 0,
      "outputs": []
    },
    {
      "cell_type": "code",
      "metadata": {
        "id": "IjYgO94kS9Gz",
        "colab_type": "code",
        "colab": {}
      },
      "source": [
        "spark = SparkSession.builder.master(\"local[*]\").getOrCreate()"
      ],
      "execution_count": 0,
      "outputs": []
    },
    {
      "cell_type": "code",
      "metadata": {
        "id": "Tb5QfRxwS-4o",
        "colab_type": "code",
        "colab": {}
      },
      "source": [
        "sqlContext = SQLContext(spark)"
      ],
      "execution_count": 0,
      "outputs": []
    },
    {
      "cell_type": "code",
      "metadata": {
        "id": "uI-y-YgzTEOh",
        "colab_type": "code",
        "colab": {}
      },
      "source": [
        "import pandas as pd\n",
        "data = pd.read_csv('https://raw.githubusercontent.com/geoffswc/IntroToPythonPart2/master/data/gapminder_all.csv')"
      ],
      "execution_count": 0,
      "outputs": []
    },
    {
      "cell_type": "code",
      "metadata": {
        "id": "IbakzHA1UBqN",
        "colab_type": "code",
        "colab": {}
      },
      "source": [
        "df = sqlContext.createDataFrame(data)"
      ],
      "execution_count": 0,
      "outputs": []
    },
    {
      "cell_type": "code",
      "metadata": {
        "id": "8PF-2zZvUG96",
        "colab_type": "code",
        "outputId": "3bd9ae83-37d2-44b1-84fa-144b16fc7216",
        "colab": {
          "base_uri": "https://localhost:8080/",
          "height": 712
        }
      },
      "source": [
        "df.printSchema()"
      ],
      "execution_count": 0,
      "outputs": [
        {
          "output_type": "stream",
          "text": [
            "root\n",
            " |-- continent: string (nullable = true)\n",
            " |-- country: string (nullable = true)\n",
            " |-- gdpPercap_1952: double (nullable = true)\n",
            " |-- gdpPercap_1957: double (nullable = true)\n",
            " |-- gdpPercap_1962: double (nullable = true)\n",
            " |-- gdpPercap_1967: double (nullable = true)\n",
            " |-- gdpPercap_1972: double (nullable = true)\n",
            " |-- gdpPercap_1977: double (nullable = true)\n",
            " |-- gdpPercap_1982: double (nullable = true)\n",
            " |-- gdpPercap_1987: double (nullable = true)\n",
            " |-- gdpPercap_1992: double (nullable = true)\n",
            " |-- gdpPercap_1997: double (nullable = true)\n",
            " |-- gdpPercap_2002: double (nullable = true)\n",
            " |-- gdpPercap_2007: double (nullable = true)\n",
            " |-- lifeExp_1952: double (nullable = true)\n",
            " |-- lifeExp_1957: double (nullable = true)\n",
            " |-- lifeExp_1962: double (nullable = true)\n",
            " |-- lifeExp_1967: double (nullable = true)\n",
            " |-- lifeExp_1972: double (nullable = true)\n",
            " |-- lifeExp_1977: double (nullable = true)\n",
            " |-- lifeExp_1982: double (nullable = true)\n",
            " |-- lifeExp_1987: double (nullable = true)\n",
            " |-- lifeExp_1992: double (nullable = true)\n",
            " |-- lifeExp_1997: double (nullable = true)\n",
            " |-- lifeExp_2002: double (nullable = true)\n",
            " |-- lifeExp_2007: double (nullable = true)\n",
            " |-- pop_1952: double (nullable = true)\n",
            " |-- pop_1957: double (nullable = true)\n",
            " |-- pop_1962: double (nullable = true)\n",
            " |-- pop_1967: double (nullable = true)\n",
            " |-- pop_1972: double (nullable = true)\n",
            " |-- pop_1977: double (nullable = true)\n",
            " |-- pop_1982: double (nullable = true)\n",
            " |-- pop_1987: double (nullable = true)\n",
            " |-- pop_1992: double (nullable = true)\n",
            " |-- pop_1997: double (nullable = true)\n",
            " |-- pop_2002: long (nullable = true)\n",
            " |-- pop_2007: long (nullable = true)\n",
            "\n"
          ],
          "name": "stdout"
        }
      ]
    },
    {
      "cell_type": "code",
      "metadata": {
        "id": "CnRBB4EvUIs3",
        "colab_type": "code",
        "outputId": "938b9a8c-07c2-4f0f-9376-b7cf2ca52a99",
        "colab": {
          "base_uri": "https://localhost:8080/",
          "height": 173
        }
      },
      "source": [
        "vectorAssembler = VectorAssembler(inputCols = ['gdpPercap_2007'], outputCol = 'features')\n",
        "va = vectorAssembler.transform(df)\n",
        "va = va.select(['features', 'lifeExp_2007'])\n",
        "va.show(3)"
      ],
      "execution_count": 0,
      "outputs": [
        {
          "output_type": "stream",
          "text": [
            "+-------------+------------+\n",
            "|     features|lifeExp_2007|\n",
            "+-------------+------------+\n",
            "|[6223.367465]|      72.301|\n",
            "|[4797.231267]|      42.731|\n",
            "|[1441.284873]|      56.728|\n",
            "+-------------+------------+\n",
            "only showing top 3 rows\n",
            "\n"
          ],
          "name": "stdout"
        }
      ]
    },
    {
      "cell_type": "code",
      "metadata": {
        "id": "pSx39V2rUOE7",
        "colab_type": "code",
        "colab": {}
      },
      "source": [
        "lr = LinearRegression(featuresCol = 'features', labelCol='lifeExp_2007', maxIter=10, regParam=0.3, elasticNetParam=0.8)"
      ],
      "execution_count": 0,
      "outputs": []
    },
    {
      "cell_type": "code",
      "metadata": {
        "id": "M2rdvN-WURc_",
        "colab_type": "code",
        "colab": {}
      },
      "source": [
        "lr_model = lr.fit(va)"
      ],
      "execution_count": 0,
      "outputs": []
    },
    {
      "cell_type": "code",
      "metadata": {
        "id": "UwTc9QjuUT85",
        "colab_type": "code",
        "colab": {}
      },
      "source": [
        "lr_predictions = lr_model.transform(va)"
      ],
      "execution_count": 0,
      "outputs": []
    },
    {
      "cell_type": "code",
      "metadata": {
        "id": "8ozfWTASUX70",
        "colab_type": "code",
        "outputId": "922e716a-b7a2-487f-bc39-1116a84dede7",
        "colab": {
          "base_uri": "https://localhost:8080/",
          "height": 52
        }
      },
      "source": [
        "print(\"Coefficients: \" + str(lr_model.coefficients))\n",
        "print(\"Intercept: \" + str(lr_model.intercept))"
      ],
      "execution_count": 0,
      "outputs": [
        {
          "output_type": "stream",
          "text": [
            "Coefficients: [0.0006153365628308675]\n",
            "Intercept: 59.82024728794976\n"
          ],
          "name": "stdout"
        }
      ]
    },
    {
      "cell_type": "code",
      "metadata": {
        "id": "DCt-94C0UaLf",
        "colab_type": "code",
        "outputId": "68d1e34d-43aa-40d4-c0b1-c99ae95a92ad",
        "colab": {
          "base_uri": "https://localhost:8080/",
          "height": 469
        }
      },
      "source": [
        "lr_predictions.show()"
      ],
      "execution_count": 0,
      "outputs": [
        {
          "output_type": "stream",
          "text": [
            "+--------------------+------------------+------------------+\n",
            "|            features|      lifeExp_2007|        prediction|\n",
            "+--------------------+------------------+------------------+\n",
            "|       [6223.367465]|            72.301| 63.64971283309631|\n",
            "|       [4797.231267]|            42.731| 62.77215908689031|\n",
            "|       [1441.284873]|            56.728| 60.70712256776171|\n",
            "|[12569.851770000001]|            50.728| 67.55493667139505|\n",
            "|       [1217.032994]|            52.295| 60.56913218732948|\n",
            "|[430.07069160000003]|             49.58|  60.0848855090932|\n",
            "|[2042.0952399999999]|             50.43|61.076823153904634|\n",
            "|        [706.016537]| 44.74100000000001|60.254685077129096|\n",
            "|[1704.0637239999999]|            50.651| 60.86882000272069|\n",
            "| [986.1478792000001]|            65.152| 60.42706013437964|\n",
            "|[277.55185869999997]|46.461999999999996|59.991035094689536|\n",
            "|       [3632.557798]|55.321999999999996| 62.05549291765555|\n",
            "|       [1544.750112]|            48.328| 60.77078851230044|\n",
            "|[2082.4815670000003]|54.791000000000004| 61.10167433754618|\n",
            "|       [5581.180998]| 71.33800000000001| 63.25455201979603|\n",
            "|       [12154.08975]| 51.57899999999999| 67.29910309905264|\n",
            "| [641.3695236000001]|             58.04|60.214905406106254|\n",
            "|       [690.8055759]|52.946999999999996|60.245325216608464|\n",
            "|       [13206.48452]|            56.735| 67.94668007956562|\n",
            "|       [752.7497265]|            59.448| 60.28344171732615|\n",
            "+--------------------+------------------+------------------+\n",
            "only showing top 20 rows\n",
            "\n"
          ],
          "name": "stdout"
        }
      ]
    },
    {
      "cell_type": "code",
      "metadata": {
        "id": "CXngbJ8XUv9i",
        "colab_type": "code",
        "colab": {}
      },
      "source": [
        ""
      ],
      "execution_count": 0,
      "outputs": []
    }
  ]
}